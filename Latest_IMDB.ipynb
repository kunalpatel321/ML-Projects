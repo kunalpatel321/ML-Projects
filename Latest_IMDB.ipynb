{
  "nbformat": 4,
  "nbformat_minor": 0,
  "metadata": {
    "colab": {
      "name": "Latest_IMDB.ipynb",
      "provenance": [],
      "collapsed_sections": [],
      "machine_shape": "hm"
    },
    "kernelspec": {
      "name": "python3",
      "display_name": "Python 3"
    },
    "accelerator": "GPU"
  },
  "cells": [
    {
      "cell_type": "code",
      "metadata": {
        "colab": {
          "base_uri": "https://localhost:8080/"
        },
        "id": "7Hmq7kaXGRtQ",
        "outputId": "4a73b50d-99c1-4f86-8a64-5fca70918fcd"
      },
      "source": [
        "!pip install nltk"
      ],
      "execution_count": 3,
      "outputs": [
        {
          "output_type": "stream",
          "text": [
            "Requirement already satisfied: nltk in /usr/local/lib/python3.7/dist-packages (3.2.5)\n",
            "Requirement already satisfied: six in /usr/local/lib/python3.7/dist-packages (from nltk) (1.15.0)\n"
          ],
          "name": "stdout"
        }
      ]
    },
    {
      "cell_type": "markdown",
      "metadata": {
        "id": "9Im1bUnTPUuv"
      },
      "source": [
        "Movie Sentimental Analysis\n"
      ]
    },
    {
      "cell_type": "markdown",
      "metadata": {
        "id": "Gkq11ienPUyv"
      },
      "source": [
        "Source:-https://www.kaggle.com/lakshmi25npathi/imdb-dataset-of-50k-movie-reviews\n",
        "\n"
      ]
    },
    {
      "cell_type": "markdown",
      "metadata": {
        "id": "lqqsOTy9PU1p"
      },
      "source": [
        "IMDB dataset having 50K movie reviews for natural language processing or Text analytics. This is a dataset for binary sentiment classification containing substantially more data than previous benchmark datasets. We provide a set of 25,000 highly polar movie reviews for training and 25,000 for testing. So, predict the number of positive and negative reviews using either classification or deep learning algorithms. For more dataset information, please go through the following link, http://ai.stanford.edu/~amaas/data/sentiment/"
      ]
    },
    {
      "cell_type": "markdown",
      "metadata": {
        "id": "fMuctIUhPU4J"
      },
      "source": [
        "Objective:- Given a review, determine whether the review is positive or negative\n"
      ]
    },
    {
      "cell_type": "markdown",
      "metadata": {
        "id": "YPc1ATrLPU7N"
      },
      "source": [
        "Attributes:-\n",
        "\n",
        "1.Review-Text\n",
        "\n",
        "2.Sentiment-Positive or Negative"
      ]
    },
    {
      "cell_type": "code",
      "metadata": {
        "colab": {
          "base_uri": "https://localhost:8080/"
        },
        "id": "q5I1MtcHJU_R",
        "outputId": "eb557fce-63bc-42dc-a7c4-2d974fcb909d"
      },
      "source": [
        "import numpy as np \n",
        "import pandas as pd \n",
        "import matplotlib.pyplot as plt\n",
        "import seaborn as sns\n",
        "import nltk\n",
        "import string\n",
        "import xgboost as xgb\n",
        "from sklearn.feature_extraction.text import TfidfVectorizer, CountVectorizer\n",
        "from sklearn.decomposition import TruncatedSVD\n",
        "from sklearn import ensemble, metrics, model_selection, naive_bayes\n",
        "color = sns.color_palette()\n",
        "import warnings\n",
        "warnings.filterwarnings('ignore')\n",
        "%matplotlib inline\n",
        "nltk.download('stopwords')\n",
        "from nltk.corpus import stopwords\n",
        "\n",
        "eng_stopwords = set(stopwords.words(\"english\"))\n",
        "pd.options.mode.chained_assignment = None"
      ],
      "execution_count": 84,
      "outputs": [
        {
          "output_type": "stream",
          "text": [
            "[nltk_data] Downloading package stopwords to /root/nltk_data...\n",
            "[nltk_data]   Package stopwords is already up-to-date!\n"
          ],
          "name": "stdout"
        }
      ]
    },
    {
      "cell_type": "code",
      "metadata": {
        "id": "mE_ebWOGGRvK"
      },
      "source": [
        "df=pd.read_csv(\"IMDB Dataset.csv\")"
      ],
      "execution_count": 85,
      "outputs": []
    },
    {
      "cell_type": "code",
      "metadata": {
        "colab": {
          "base_uri": "https://localhost:8080/",
          "height": 195
        },
        "id": "BQLCktf1GRyb",
        "outputId": "109babd9-b704-4081-e495-405c6bd6f955"
      },
      "source": [
        "df.head()"
      ],
      "execution_count": 86,
      "outputs": [
        {
          "output_type": "execute_result",
          "data": {
            "text/html": [
              "<div>\n",
              "<style scoped>\n",
              "    .dataframe tbody tr th:only-of-type {\n",
              "        vertical-align: middle;\n",
              "    }\n",
              "\n",
              "    .dataframe tbody tr th {\n",
              "        vertical-align: top;\n",
              "    }\n",
              "\n",
              "    .dataframe thead th {\n",
              "        text-align: right;\n",
              "    }\n",
              "</style>\n",
              "<table border=\"1\" class=\"dataframe\">\n",
              "  <thead>\n",
              "    <tr style=\"text-align: right;\">\n",
              "      <th></th>\n",
              "      <th>review</th>\n",
              "      <th>sentiment</th>\n",
              "    </tr>\n",
              "  </thead>\n",
              "  <tbody>\n",
              "    <tr>\n",
              "      <th>0</th>\n",
              "      <td>One of the other reviewers has mentioned that ...</td>\n",
              "      <td>positive</td>\n",
              "    </tr>\n",
              "    <tr>\n",
              "      <th>1</th>\n",
              "      <td>A wonderful little production. &lt;br /&gt;&lt;br /&gt;The...</td>\n",
              "      <td>positive</td>\n",
              "    </tr>\n",
              "    <tr>\n",
              "      <th>2</th>\n",
              "      <td>I thought this was a wonderful way to spend ti...</td>\n",
              "      <td>positive</td>\n",
              "    </tr>\n",
              "    <tr>\n",
              "      <th>3</th>\n",
              "      <td>Basically there's a family where a little boy ...</td>\n",
              "      <td>negative</td>\n",
              "    </tr>\n",
              "    <tr>\n",
              "      <th>4</th>\n",
              "      <td>Petter Mattei's \"Love in the Time of Money\" is...</td>\n",
              "      <td>positive</td>\n",
              "    </tr>\n",
              "  </tbody>\n",
              "</table>\n",
              "</div>"
            ],
            "text/plain": [
              "                                              review sentiment\n",
              "0  One of the other reviewers has mentioned that ...  positive\n",
              "1  A wonderful little production. <br /><br />The...  positive\n",
              "2  I thought this was a wonderful way to spend ti...  positive\n",
              "3  Basically there's a family where a little boy ...  negative\n",
              "4  Petter Mattei's \"Love in the Time of Money\" is...  positive"
            ]
          },
          "metadata": {
            "tags": []
          },
          "execution_count": 86
        }
      ]
    },
    {
      "cell_type": "code",
      "metadata": {
        "colab": {
          "base_uri": "https://localhost:8080/",
          "height": 282
        },
        "id": "LstZpANQGkLg",
        "outputId": "6e1c6ba0-7db7-4aeb-a93b-32b9af63e2d4"
      },
      "source": [
        "cnt_srs = df['sentiment'].value_counts()\n",
        "\n",
        "plt.figure(figsize=(8,4))\n",
        "sns.barplot(cnt_srs.index, cnt_srs.values, alpha=0.8)\n",
        "plt.ylabel('Number of Occurrences', fontsize=12)\n",
        "plt.xlabel('Author Name', fontsize=12)\n",
        "plt.show()"
      ],
      "execution_count": 87,
      "outputs": [
        {
          "output_type": "display_data",
          "data": {
            "image/png": "[encoded data removed]",
            "text/plain": [
              "<Figure size 576x288 with 1 Axes>"
            ]
          },
          "metadata": {
            "tags": [],
            "needs_background": "light"
          }
        }
      ]
    },
    {
      "cell_type": "code",
      "metadata": {
        "id": "UY41XVUkGkNk"
      },
      "source": [
        "import re\n",
        "\n",
        "def decontracted(phrase):\n",
        "    \n",
        "    phrase = re.sub(r\"won't\", \"will not\", phrase)   \n",
        "    phrase = re.sub(r\"can\\'t\", \"can not\", phrase)\n",
        "    phrase = re.sub(r\"n\\'t\", \" not\", phrase)\n",
        "    phrase = re.sub(r\"\\'re\", \" are\", phrase)\n",
        "    phrase = re.sub(r\"\\'s\", \" is\", phrase)\n",
        "    phrase = re.sub(r\"\\'d\", \" would\", phrase)\n",
        "    phrase = re.sub(r\"\\'ll\", \" will\", phrase)\n",
        "    phrase = re.sub(r\"\\'t\", \" not\", phrase)\n",
        "    phrase = re.sub(r\"\\'ve\", \" have\", phrase)\n",
        "    phrase = re.sub(r\"\\'m\", \" am\", phrase)\n",
        "    return phrase"
      ],
      "execution_count": 88,
      "outputs": []
    },
    {
      "cell_type": "code",
      "metadata": {
        "id": "fFOGNyXCGkQz"
      },
      "source": [
        "def removehtml(sent):\n",
        "    cleanr = re.compile('<.*?>')\n",
        "    cleartext = re.sub(cleanr, ' ', sent)\n",
        "    return cleartext"
      ],
      "execution_count": 89,
      "outputs": []
    },
    {
      "cell_type": "code",
      "metadata": {
        "colab": {
          "base_uri": "https://localhost:8080/"
        },
        "id": "AXGBjUt_GkSm",
        "outputId": "97b59cb0-4427-42d0-de5b-b8e8f3e6f224"
      },
      "source": [
        "from tqdm import tqdm\n",
        "filtered_review=[]\n",
        "\n",
        "for sent in tqdm(df['review'].values):\n",
        "  sent=decontracted(sent)\n",
        "  sent=removehtml(sent)\n",
        "  sent=sent.replace(\"\\'\", \"\")\n",
        "  \n",
        "  sent=' '.join(i for i in sent.split())\n",
        "  filtered_review.append(sent.strip())"
      ],
      "execution_count": 90,
      "outputs": [
        {
          "output_type": "stream",
          "text": [
            "100%|██████████| 50000/50000 [00:02<00:00, 18354.13it/s]\n"
          ],
          "name": "stderr"
        }
      ]
    },
    {
      "cell_type": "code",
      "metadata": {
        "id": "sV9xolabGkWF"
      },
      "source": [
        "df['review']=filtered_review"
      ],
      "execution_count": 91,
      "outputs": []
    },
    {
      "cell_type": "code",
      "metadata": {
        "id": "C9CwsAi7GkYF"
      },
      "source": [
        "df.drop_duplicates(subset={'review'},keep=\"first\",inplace=True)"
      ],
      "execution_count": 92,
      "outputs": []
    },
    {
      "cell_type": "code",
      "metadata": {
        "colab": {
          "base_uri": "https://localhost:8080/"
        },
        "id": "z8mh_7CeGwa_",
        "outputId": "2d397c4d-be0d-449a-811a-da578c9b177b"
      },
      "source": [
        "df.shape"
      ],
      "execution_count": 93,
      "outputs": [
        {
          "output_type": "execute_result",
          "data": {
            "text/plain": [
              "(49578, 2)"
            ]
          },
          "metadata": {
            "tags": []
          },
          "execution_count": 93
        }
      ]
    },
    {
      "cell_type": "code",
      "metadata": {
        "id": "wsppibAdGwck"
      },
      "source": [
        "train_df=df[:34704]\n",
        "test_df=df[34704:]"
      ],
      "execution_count": 94,
      "outputs": []
    },
    {
      "cell_type": "code",
      "metadata": {
        "colab": {
          "base_uri": "https://localhost:8080/"
        },
        "id": "CEhcWCKfGwgD",
        "outputId": "5f954ab0-9b66-46b2-fd9b-87c794354618"
      },
      "source": [
        "test_df.shape"
      ],
      "execution_count": 95,
      "outputs": [
        {
          "output_type": "execute_result",
          "data": {
            "text/plain": [
              "(14874, 2)"
            ]
          },
          "metadata": {
            "tags": []
          },
          "execution_count": 95
        }
      ]
    },
    {
      "cell_type": "markdown",
      "metadata": {
        "id": "fEQ2h1CFP0hc"
      },
      "source": [
        "Feature Engineering\n",
        "\n",
        "\n",
        "\n",
        "1.   Meta features - Features that are extracted from the text like number of   words, number of stop words, number of punctuations etc\n",
        "\n",
        "2.   Text based features - Features directly based on the text / words like frequency, svd, word2vec etc.\n",
        "\n"
      ]
    },
    {
      "cell_type": "code",
      "metadata": {
        "id": "QbNbxcPBGwjA"
      },
      "source": [
        "## Number of words in the text ##\n",
        "train_df[\"num_words\"] = train_df[\"review\"].apply(lambda x: len(str(x).split()))\n",
        "test_df[\"num_words\"] = test_df[\"review\"].apply(lambda x: len(str(x).split()))\n",
        "\n",
        "## Number of unique words in the review ##\n",
        "train_df[\"num_unique_words\"] = train_df[\"review\"].apply(lambda x: len(set(str(x).split())))\n",
        "test_df[\"num_unique_words\"] = test_df[\"review\"].apply(lambda x: len(set(str(x).split())))\n",
        "\n",
        "## Number of characters in the review ##\n",
        "train_df[\"num_chars\"] = train_df[\"review\"].apply(lambda x: len(str(x)))\n",
        "test_df[\"num_chars\"] = test_df[\"review\"].apply(lambda x: len(str(x)))\n",
        "\n",
        "## Number of stopwords in the review ##\n",
        "train_df[\"num_stopwords\"] = train_df[\"review\"].apply(lambda x: len([w for w in str(x).lower().split() if w in eng_stopwords]))\n",
        "test_df[\"num_stopwords\"] = test_df[\"review\"].apply(lambda x: len([w for w in str(x).lower().split() if w in eng_stopwords]))\n",
        "\n",
        "## Number of punctuations in the review ##\n",
        "train_df[\"num_punctuations\"] =train_df['review'].apply(lambda x: len([c for c in str(x) if c in string.punctuation]) )\n",
        "test_df[\"num_punctuations\"] =test_df['review'].apply(lambda x: len([c for c in str(x) if c in string.punctuation]) )\n",
        "\n",
        "## Number of title case words in the review ##\n",
        "train_df[\"num_words_upper\"] = train_df[\"review\"].apply(lambda x: len([w for w in str(x).split() if w.isupper()]))\n",
        "test_df[\"num_words_upper\"] = test_df[\"review\"].apply(lambda x: len([w for w in str(x).split() if w.isupper()]))\n",
        "\n",
        "## Number of title case words in the review ##\n",
        "train_df[\"num_words_title\"] = train_df[\"review\"].apply(lambda x: len([w for w in str(x).split() if w.istitle()]))\n",
        "test_df[\"num_words_title\"] = test_df[\"review\"].apply(lambda x: len([w for w in str(x).split() if w.istitle()]))\n",
        "\n",
        "## Average length of the words in the review ##\n",
        "train_df[\"mean_word_len\"] = train_df[\"review\"].apply(lambda x: np.mean([len(w) for w in str(x).split()]))\n",
        "test_df[\"mean_word_len\"] = test_df[\"review\"].apply(lambda x: np.mean([len(w) for w in str(x).split()]))"
      ],
      "execution_count": 96,
      "outputs": []
    },
    {
      "cell_type": "code",
      "metadata": {
        "id": "K8wQ5IaQGkbP"
      },
      "source": [
        "s = {'positive':0, 'negative':1}\n",
        "train_y = train_df['sentiment'].map(s)\n",
        "\n",
        "cols_to_drop = ['review']\n",
        "train_X = train_df.drop(cols_to_drop+['sentiment'], axis=1)\n",
        "test_X = test_df.drop(cols_to_drop+['sentiment'], axis=1)"
      ],
      "execution_count": 97,
      "outputs": []
    },
    {
      "cell_type": "code",
      "metadata": {
        "id": "sxvhCFdeG53_"
      },
      "source": [
        "def runXGB(train_X, train_y, test_X, test_y=None, test_X2=None, seed_val=0, child=1, colsample=0.3):\n",
        "    param = {}\n",
        "    param['objective'] = 'multi:softprob'\n",
        "    param['eta'] = 0.1\n",
        "    param['max_depth'] = 3\n",
        "    param['silent'] = 1\n",
        "    param['num_class'] = 2\n",
        "    param['eval_metric'] = \"mlogloss\"\n",
        "    param['min_child_weight'] = child\n",
        "    param['subsample'] = 0.8\n",
        "    param['colsample_bytree'] = colsample\n",
        "    param['seed'] = seed_val\n",
        "    num_rounds = 2000\n",
        "\n",
        "    plst = list(param.items())\n",
        "    xgtrain = xgb.DMatrix(train_X, label=train_y)\n",
        "\n",
        "    if test_y is not None:\n",
        "        xgtest = xgb.DMatrix(test_X, label=test_y)\n",
        "        watchlist = [ (xgtrain,'train'), (xgtest, 'test') ]\n",
        "        model = xgb.train(plst, xgtrain, num_rounds, watchlist, early_stopping_rounds=50, verbose_eval=20)\n",
        "    else:\n",
        "        xgtest = xgb.DMatrix(test_X)\n",
        "        model = xgb.train(plst, xgtrain, num_rounds)\n",
        "\n",
        "    pred_test_y = model.predict(xgtest, ntree_limit = model.best_ntree_limit)\n",
        "    if test_X2 is not None:\n",
        "        xgtest2 = xgb.DMatrix(test_X2)\n",
        "        pred_test_y2 = model.predict(xgtest2, ntree_limit = model.best_ntree_limit)\n",
        "    return pred_test_y, pred_test_y2, model"
      ],
      "execution_count": 98,
      "outputs": []
    },
    {
      "cell_type": "code",
      "metadata": {
        "colab": {
          "base_uri": "https://localhost:8080/"
        },
        "id": "tIcMeW4YG56N",
        "outputId": "5981bfb0-8ecf-4391-d4a5-93f4abf733d5"
      },
      "source": [
        "kf = model_selection.KFold(n_splits=5, shuffle=True, random_state=2017)\n",
        "cv_scores = []\n",
        "pred_full_test = 0\n",
        "pred_train = np.zeros([df.shape[0], 2])\n",
        "for dev_index, val_index in kf.split(train_X):\n",
        "    dev_X, val_X = train_X.iloc[dev_index], train_X.iloc[val_index]\n",
        "    dev_y, val_y = train_y.iloc[dev_index], train_y.iloc[val_index]\n",
        "    pred_val_y, pred_test_y, model = runXGB(dev_X, dev_y, val_X, val_y, test_X, seed_val=0)\n",
        "    pred_full_test = pred_full_test + pred_test_y\n",
        "    pred_train[val_index,:] = pred_val_y\n",
        "    cv_scores.append(metrics.log_loss(val_y, pred_val_y))\n",
        "    break\n",
        "print(\"cv scores : \", cv_scores)"
      ],
      "execution_count": 99,
      "outputs": [
        {
          "output_type": "stream",
          "text": [
            "[0]\ttrain-mlogloss:0.692371\ttest-mlogloss:0.692569\n",
            "Multiple eval metrics have been passed: 'test-mlogloss' will be used for early stopping.\n",
            "\n",
            "Will train until test-mlogloss hasn't improved in 50 rounds.\n",
            "[20]\ttrain-mlogloss:0.681124\ttest-mlogloss:0.683993\n",
            "[40]\ttrain-mlogloss:0.675747\ttest-mlogloss:0.680607\n",
            "[60]\ttrain-mlogloss:0.671061\ttest-mlogloss:0.677641\n",
            "[80]\ttrain-mlogloss:0.666515\ttest-mlogloss:0.674707\n",
            "[100]\ttrain-mlogloss:0.663915\ttest-mlogloss:0.673491\n",
            "[120]\ttrain-mlogloss:0.66049\ttest-mlogloss:0.671604\n",
            "[140]\ttrain-mlogloss:0.65856\ttest-mlogloss:0.670935\n",
            "[160]\ttrain-mlogloss:0.65659\ttest-mlogloss:0.670061\n",
            "[180]\ttrain-mlogloss:0.654462\ttest-mlogloss:0.66923\n",
            "[200]\ttrain-mlogloss:0.652741\ttest-mlogloss:0.668618\n",
            "[220]\ttrain-mlogloss:0.651121\ttest-mlogloss:0.668382\n",
            "[240]\ttrain-mlogloss:0.649528\ttest-mlogloss:0.668188\n",
            "[260]\ttrain-mlogloss:0.64811\ttest-mlogloss:0.667912\n",
            "[280]\ttrain-mlogloss:0.646826\ttest-mlogloss:0.667606\n",
            "[300]\ttrain-mlogloss:0.645518\ttest-mlogloss:0.667324\n",
            "[320]\ttrain-mlogloss:0.644159\ttest-mlogloss:0.667211\n",
            "[340]\ttrain-mlogloss:0.642688\ttest-mlogloss:0.667152\n",
            "[360]\ttrain-mlogloss:0.641433\ttest-mlogloss:0.667046\n",
            "[380]\ttrain-mlogloss:0.640023\ttest-mlogloss:0.666812\n",
            "[400]\ttrain-mlogloss:0.63868\ttest-mlogloss:0.666583\n",
            "[420]\ttrain-mlogloss:0.637421\ttest-mlogloss:0.666616\n",
            "[440]\ttrain-mlogloss:0.636167\ttest-mlogloss:0.666451\n",
            "[460]\ttrain-mlogloss:0.635165\ttest-mlogloss:0.666486\n",
            "[480]\ttrain-mlogloss:0.634027\ttest-mlogloss:0.666422\n",
            "[500]\ttrain-mlogloss:0.632914\ttest-mlogloss:0.666449\n",
            "Stopping. Best iteration:\n",
            "[452]\ttrain-mlogloss:0.635591\ttest-mlogloss:0.666303\n",
            "\n",
            "cv scores :  [0.6663034368258631]\n"
          ],
          "name": "stdout"
        }
      ]
    },
    {
      "cell_type": "code",
      "metadata": {
        "colab": {
          "base_uri": "https://localhost:8080/",
          "height": 730
        },
        "id": "SxaEbMmwG58t",
        "outputId": "950c4a4c-0499-49aa-9ab5-81af10881903"
      },
      "source": [
        "fig, ax = plt.subplots(figsize=(12,12))\n",
        "xgb.plot_importance(model, max_num_features=50, height=0.8, ax=ax)\n",
        "plt.show()"
      ],
      "execution_count": 100,
      "outputs": [
        {
          "output_type": "display_data",
          "data": {
            "image/png": "[encoded data removed]",
            "text/plain": [
              "<Figure size 864x864 with 1 Axes>"
            ]
          },
          "metadata": {
            "tags": [],
            "needs_background": "light"
          }
        }
      ]
    },
    {
      "cell_type": "markdown",
      "metadata": {
        "id": "NXQ8545fP8T3"
      },
      "source": [
        "Text Based Features :\n",
        "\n"
      ]
    },
    {
      "cell_type": "code",
      "metadata": {
        "id": "IHXv9eGTHA5f"
      },
      "source": [
        "tfidf_vec = TfidfVectorizer(stop_words='english', ngram_range=(1,3))\n",
        "full_tfidf = tfidf_vec.fit_transform(train_df['review'].values.tolist() + test_df['review'].values.tolist())\n",
        "train_tfidf = tfidf_vec.transform(train_df['review'].values.tolist())\n",
        "test_tfidf = tfidf_vec.transform(test_df['review'].values.tolist())"
      ],
      "execution_count": 101,
      "outputs": []
    },
    {
      "cell_type": "code",
      "metadata": {
        "id": "OmjeyRgFHA7W"
      },
      "source": [
        "def runMNB(train_X, train_y, test_X, test_y, test_X2):\n",
        "    model = naive_bayes.MultinomialNB()\n",
        "    model.fit(train_X, train_y)\n",
        "    pred_test_y = model.predict_proba(test_X)\n",
        "    pred_test_y2 = model.predict_proba(test_X2)\n",
        "    return pred_test_y, pred_test_y2, model"
      ],
      "execution_count": 102,
      "outputs": []
    },
    {
      "cell_type": "code",
      "metadata": {
        "colab": {
          "base_uri": "https://localhost:8080/"
        },
        "id": "bPPwNPZ5HA-g",
        "outputId": "c9fb91e7-55c0-4cdd-af1a-e456dc8e69b1"
      },
      "source": [
        "cv_scores = []\n",
        "pred_full_test = 0\n",
        "pred_train = np.zeros([train_df.shape[0], 2])\n",
        "kf = model_selection.KFold(n_splits=5, shuffle=True, random_state=2017)\n",
        "for dev_index, val_index in kf.split(train_X):\n",
        "    dev_X, val_X = train_tfidf[dev_index], train_tfidf[val_index]\n",
        "    dev_y, val_y = train_y.iloc[dev_index], train_y.iloc[val_index]\n",
        "    pred_val_y, pred_test_y, model = runMNB(dev_X, dev_y, val_X, val_y, test_tfidf)\n",
        "    pred_full_test = pred_full_test + pred_test_y\n",
        "    pred_train[val_index,:] = pred_val_y\n",
        "    cv_scores.append(metrics.log_loss(val_y, pred_val_y))\n",
        "print(\"Mean cv score : \", np.mean(cv_scores))\n",
        "pred_full_test = pred_full_test / 5."
      ],
      "execution_count": 103,
      "outputs": [
        {
          "output_type": "stream",
          "text": [
            "Mean cv score :  0.49516468120129253\n"
          ],
          "name": "stdout"
        }
      ]
    },
    {
      "cell_type": "code",
      "metadata": {
        "id": "yrURMliCHBBZ"
      },
      "source": [
        "import itertools\n",
        "from sklearn.metrics import confusion_matrix\n",
        "\n",
        "### From http://scikit-learn.org/stable/auto_examples/model_selection/plot_confusion_matrix.html#sphx-glr-auto-examples-model-selection-plot-confusion-matrix-py #\n",
        "def plot_confusion_matrix(cm, classes,\n",
        "                          normalize=False,\n",
        "                          title='Confusion matrix',\n",
        "                          cmap=plt.cm.Blues):\n",
        "    \"\"\"\n",
        "    This function prints and plots the confusion matrix.\n",
        "    Normalization can be applied by setting `normalize=True`.\n",
        "    \"\"\"\n",
        "    if normalize:\n",
        "        cm = cm.astype('float') / cm.sum(axis=1)[:, np.newaxis]\n",
        "        #print(\"Normalized confusion matrix\")\n",
        "    #else:\n",
        "    #    print('Confusion matrix, without normalization')\n",
        "\n",
        "    #print(cm)\n",
        "\n",
        "    plt.imshow(cm, interpolation='nearest', cmap=cmap)\n",
        "    plt.title(title)\n",
        "    plt.colorbar()\n",
        "    tick_marks = np.arange(len(classes))\n",
        "    plt.xticks(tick_marks, classes, rotation=45)\n",
        "    plt.yticks(tick_marks, classes)\n",
        "\n",
        "    fmt = '.2f' if normalize else 'd'\n",
        "    thresh = cm.max() / 2.\n",
        "    for i, j in itertools.product(range(cm.shape[0]), range(cm.shape[1])):\n",
        "        plt.text(j, i, format(cm[i, j], fmt),\n",
        "                 horizontalalignment=\"center\",\n",
        "                 color=\"white\" if cm[i, j] > thresh else \"black\")\n",
        "\n",
        "    plt.tight_layout()\n",
        "    plt.ylabel('True label')\n",
        "    plt.xlabel('Predicted label')"
      ],
      "execution_count": 104,
      "outputs": []
    },
    {
      "cell_type": "code",
      "metadata": {
        "colab": {
          "base_uri": "https://localhost:8080/",
          "height": 585
        },
        "id": "R5pA7XvPG5_m",
        "outputId": "e4c983cf-b6c1-4dc3-fe91-4dfb77a1af80"
      },
      "source": [
        "cnf_matrix = confusion_matrix(val_y, np.argmax(pred_val_y,axis=1))\n",
        "np.set_printoptions(precision=2)\n",
        "\n",
        "# Plot non-normalized confusion matrix\n",
        "plt.figure(figsize=(8,8))\n",
        "plot_confusion_matrix(cnf_matrix, classes=['pos', 'neg'],\n",
        "                      title='Confusion matrix, without normalization')\n",
        "plt.show()"
      ],
      "execution_count": 105,
      "outputs": [
        {
          "output_type": "display_data",
          "data": {
            "image/png": "[encoded data removed]",
            "text/plain": [
              "<Figure size 576x576 with 2 Axes>"
            ]
          },
          "metadata": {
            "tags": [],
            "needs_background": "light"
          }
        }
      ]
    },
    {
      "cell_type": "code",
      "metadata": {
        "id": "RBWYawllHLEH"
      },
      "source": [
        "n_comp = 20\n",
        "svd_obj = TruncatedSVD(n_components=n_comp, algorithm='arpack')\n",
        "svd_obj.fit(full_tfidf)\n",
        "train_svd = pd.DataFrame(svd_obj.transform(train_tfidf))\n",
        "test_svd = pd.DataFrame(svd_obj.transform(test_tfidf))\n",
        "    \n",
        "train_svd.columns = ['svd_word_'+str(i) for i in range(n_comp)]\n",
        "test_svd.columns = ['svd_word_'+str(i) for i in range(n_comp)]\n",
        "train_df = pd.concat([train_df, train_svd], axis=1)\n",
        "test_df = pd.concat([test_df, test_svd], axis=1)\n",
        "del full_tfidf, train_tfidf, test_tfidf, train_svd, test_svd"
      ],
      "execution_count": 106,
      "outputs": []
    },
    {
      "cell_type": "code",
      "metadata": {
        "id": "QrEOgmoVHLGM"
      },
      "source": [
        "tfidf_vec = CountVectorizer(stop_words='english', ngram_range=(1,3))\n",
        "tfidf_vec.fit(train_df['review'].values.astype('U').tolist() + test_df['review'].values.astype('U').tolist())\n",
        "train_tfidf = tfidf_vec.transform(train_df['review'].values.astype('U').tolist())\n",
        "test_tfidf = tfidf_vec.transform(test_df['review'].values.astype('U').tolist())"
      ],
      "execution_count": 107,
      "outputs": []
    },
    {
      "cell_type": "code",
      "metadata": {
        "colab": {
          "base_uri": "https://localhost:8080/"
        },
        "id": "rui4-y4rHLI8",
        "outputId": "b3e4515a-2741-4c2b-ae6b-3cb2abb77ce2"
      },
      "source": [
        "pred_full_test = 0\n",
        "pred_train = np.zeros([train_df.shape[0], 2])\n",
        "kf = model_selection.KFold(n_splits=5, shuffle=True, random_state=2017)\n",
        "for dev_index, val_index in kf.split(train_X):\n",
        "    dev_X, val_X = train_tfidf[dev_index], train_tfidf[val_index]\n",
        "    dev_y, val_y = train_y.iloc[dev_index], train_y.iloc[val_index]\n",
        "    pred_val_y, pred_test_y, model = runMNB(dev_X, dev_y, val_X, val_y, test_tfidf)\n",
        "    pred_full_test = pred_full_test + pred_test_y\n",
        "    pred_train[val_index,:] = pred_val_y\n",
        "    cv_scores.append(metrics.log_loss(val_y, pred_val_y))\n",
        "print(\"Mean cv score : \", np.mean(cv_scores))\n",
        "pred_full_test = pred_full_test / 5.\n",
        "\n",
        "# add the predictions as new features #\n",
        "train_df[\"nb_cvec_pos\"] = pred_train[:,0]\n",
        "train_df[\"nb_cvec_neg\"] = pred_train[:,1]\n",
        "test_df[\"nb_cvec_pos\"] = pred_full_test[:,0]\n",
        "test_df[\"nb_cvec_neg\"] = pred_full_test[:,1]"
      ],
      "execution_count": 108,
      "outputs": [
        {
          "output_type": "stream",
          "text": [
            "Mean cv score :  1.8550624995080605\n"
          ],
          "name": "stdout"
        }
      ]
    },
    {
      "cell_type": "code",
      "metadata": {
        "colab": {
          "base_uri": "https://localhost:8080/"
        },
        "id": "gsng_5ToHLLv",
        "outputId": "09783a26-c0d2-42e3-f327-5206adf3a796"
      },
      "source": [
        "tfidf_vec = CountVectorizer(ngram_range=(1,7), analyzer='char')\n",
        "tfidf_vec.fit(train_df['review'].values.astype('U').tolist() + test_df['review'].values.astype('U').tolist())\n",
        "train_tfidf = tfidf_vec.transform(train_df['review'].values.astype('U').tolist())\n",
        "test_tfidf = tfidf_vec.transform(test_df['review'].values.astype('U').tolist())\n",
        "\n",
        "cv_scores = []\n",
        "pred_full_test = 0\n",
        "pred_train = np.zeros([train_df.shape[0], 2])\n",
        "kf = model_selection.KFold(n_splits=5, shuffle=True, random_state=2017)\n",
        "for dev_index, val_index in kf.split(train_X):\n",
        "    dev_X, val_X = train_tfidf[dev_index], train_tfidf[val_index]\n",
        "    dev_y, val_y = train_y.iloc[dev_index], train_y.iloc[val_index]\n",
        "    pred_val_y, pred_test_y, model = runMNB(dev_X, dev_y, val_X, val_y, test_tfidf)\n",
        "    pred_full_test = pred_full_test + pred_test_y\n",
        "    pred_train[val_index,:] = pred_val_y\n",
        "    cv_scores.append(metrics.log_loss(val_y, pred_val_y))\n",
        "print(\"Mean cv score : \", np.mean(cv_scores))\n",
        "pred_full_test = pred_full_test / 5.\n",
        "\n",
        "# add the predictions as new features #\n",
        "train_df[\"nb_cvec_char_pos\"] = pred_train[:,0]\n",
        "train_df[\"nb_cvec_char_neg\"] = pred_train[:,1]\n",
        "\n",
        "test_df[\"nb_cvec_char_pos\"] = pred_full_test[:,0]\n",
        "test_df[\"nb_cvec_char_neg\"] = pred_full_test[:,1]"
      ],
      "execution_count": 109,
      "outputs": [
        {
          "output_type": "stream",
          "text": [
            "Mean cv score :  12.690168187170567\n"
          ],
          "name": "stdout"
        }
      ]
    },
    {
      "cell_type": "code",
      "metadata": {
        "colab": {
          "base_uri": "https://localhost:8080/"
        },
        "id": "E4YNX1SXGkeC",
        "outputId": "9159ec8a-5276-4b58-fa5e-74a57f227de7"
      },
      "source": [
        "tfidf_vec = TfidfVectorizer(ngram_range=(1,5), analyzer='char')\n",
        "full_tfidf = tfidf_vec.fit_transform(train_df['review'].values.astype('U').tolist() + test_df['review'].values.astype('U').tolist())\n",
        "train_tfidf = tfidf_vec.transform(train_df['review'].values.astype('U').tolist())\n",
        "test_tfidf = tfidf_vec.transform(test_df['review'].values.astype('U').tolist())\n",
        "\n",
        "cv_scores = []\n",
        "pred_full_test = 0\n",
        "pred_train = np.zeros([train_df.shape[0], 2])\n",
        "kf = model_selection.KFold(n_splits=5, shuffle=True, random_state=2017)\n",
        "for dev_index, val_index in kf.split(train_X):\n",
        "    dev_X, val_X = train_tfidf[dev_index], train_tfidf[val_index]\n",
        "    dev_y, val_y = train_y.iloc[dev_index], train_y.iloc[val_index]\n",
        "    pred_val_y, pred_test_y, model = runMNB(dev_X, dev_y, val_X, val_y, test_tfidf)\n",
        "    pred_full_test = pred_full_test + pred_test_y\n",
        "    pred_train[val_index,:] = pred_val_y\n",
        "    cv_scores.append(metrics.log_loss(val_y, pred_val_y))\n",
        "print(\"Mean cv score : \", np.mean(cv_scores))\n",
        "pred_full_test = pred_full_test / 5.\n",
        "\n",
        "# add the predictions as new features #\n",
        "train_df[\"nb_tfidf_char_pos\"] = pred_train[:,0]\n",
        "train_df[\"nb_tfidf_char_neg\"] = pred_train[:,1]\n",
        "test_df[\"nb_tfidf_char_pos\"] = pred_full_test[:,0]\n",
        "test_df[\"nb_tfidf_char_neg\"] = pred_full_test[:,1]\n"
      ],
      "execution_count": 110,
      "outputs": [
        {
          "output_type": "stream",
          "text": [
            "Mean cv score :  0.6933971200810449\n"
          ],
          "name": "stdout"
        }
      ]
    },
    {
      "cell_type": "markdown",
      "metadata": {
        "id": "BAL7nrytnA8Y"
      },
      "source": [
        "As we can see here our Text Based features have performed well as compared to the Meta Features.\n"
      ]
    },
    {
      "cell_type": "markdown",
      "metadata": {
        "id": "gB_5lW90qrzM"
      },
      "source": [
        "Ideas for further improvement \n",
        "\n",
        "\n",
        "*   Parameter Tuning for tfidf vectorizer.\n",
        "*   Parameter Tuning for naive bayes and XGB Models.\n",
        "\n"
      ]
    },
    {
      "cell_type": "code",
      "metadata": {
        "id": "uCXVfKd3rGnW"
      },
      "source": [
        ""
      ],
      "execution_count": null,
      "outputs": []
    }
  ]
}